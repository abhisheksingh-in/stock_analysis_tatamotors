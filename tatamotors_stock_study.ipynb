import pandas as pd
pd.set_option('display.max_rows', 500)
pd.set_option('display.max_columns', 500)
pd.set_option('display.width', 1000)
from pandas.plotting import register_matplotlib_converters
import datetime as dt
import matplotlib.pyplot as plt
from matplotlib import style

import matplotlib.dates as mdates
pd.core.common.is_list_like = pd.api.types.is_list_like

style.use('ggplot')
df = pd.read_csv('TATAMOTORS.csv', parse_dates=True, index_col=0)
df['10ma']= df['Close'].rolling(window=10).mean()
df['25ma']= df['Close'].rolling(window=25).mean()
df['50ma']= df['Close'].rolling(window=50).mean()
df['100ma']=df['Close'].rolling(window=100).mean()

print(df.tail(20))
ax1 = plt.subplot2grid((6,1),(0,0),rowspan=5,colspan=1)
ax2 = plt.subplot2grid((6,1),(5,0),rowspan=1,colspan=1,sharex=ax1)
ax1.plot(df.index,df['Close'])
ax1.plot(df.index,df['100ma'])
ax2.bar(df.index,df['Volume'])

df.plot()
plt.show()
df['Open'].plot(label='TATAMOTORS',figsize=(12,8),title = 'Opening Prices')
plt.legend();
